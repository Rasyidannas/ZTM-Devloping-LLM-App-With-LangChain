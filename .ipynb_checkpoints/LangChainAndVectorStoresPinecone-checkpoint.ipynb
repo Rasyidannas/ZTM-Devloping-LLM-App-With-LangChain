{
 "cells": [
  {
   "cell_type": "markdown",
   "id": "1ced6cd7-a026-4ce9-97cc-b39f3363bdba",
   "metadata": {},
   "source": [
    "# Pinecone"
   ]
  },
  {
   "cell_type": "code",
   "execution_count": 12,
   "id": "38679b81-43b9-450b-94c8-e19577c86c80",
   "metadata": {},
   "outputs": [
    {
     "data": {
      "text/plain": [
       "True"
      ]
     },
     "execution_count": 12,
     "metadata": {},
     "output_type": "execute_result"
    }
   ],
   "source": [
    "# authenticating to Pinecone. \n",
    "# the API KEY is in .env\n",
    "import os\n",
    "from dotenv import load_dotenv, find_dotenv\n",
    "load_dotenv(find_dotenv(), override=True)"
   ]
  },
  {
   "cell_type": "code",
   "execution_count": null,
   "id": "f5fa9663-9e16-4914-a720-48e321215812",
   "metadata": {},
   "outputs": [],
   "source": [
    "pip install --upgrade -q pinecone-client"
   ]
  },
  {
   "cell_type": "code",
   "execution_count": null,
   "id": "97e52d6a-ba3f-4269-b41e-b48bab461847",
   "metadata": {},
   "outputs": [],
   "source": [
    "pip show pinecone-client"
   ]
  },
  {
   "cell_type": "code",
   "execution_count": 18,
   "id": "9e744f82-ff00-4470-8289-c7ef2c6310fd",
   "metadata": {},
   "outputs": [
    {
     "data": {
      "text/plain": [
       "{'indexes': [{'dimension': 1536,\n",
       "              'host': 'langchain-jl6xhcm.svc.aped-4627-b74a.pinecone.io',\n",
       "              'metric': 'cosine',\n",
       "              'name': 'langchain',\n",
       "              'spec': {'serverless': {'cloud': 'aws', 'region': 'us-east-1'}},\n",
       "              'status': {'ready': True, 'state': 'Ready'}}]}"
      ]
     },
     "execution_count": 18,
     "metadata": {},
     "output_type": "execute_result"
    }
   ],
   "source": [
    "from pinecone import Pinecone, ServerlessSpec\n",
    "\n",
    "# Initilizing and authenticating the pinecone client\n",
    "pc = Pinecone()\n",
    "# pc = Pinecone(api_key='YOUR_API_KEY')\n",
    "\n",
    "# checking authentication and read indexes in pinecone\n",
    "pc.list_indexes()"
   ]
  },
  {
   "cell_type": "markdown",
   "id": "1b6be72d-aa5e-4d50-95e4-8382c2927b0a",
   "metadata": {},
   "source": [
    "## Working with Pinecone Indexes"
   ]
  },
  {
   "cell_type": "code",
   "execution_count": 19,
   "id": "f94613d9-0d20-49b3-99a5-60a9f89ba249",
   "metadata": {},
   "outputs": [
    {
     "data": {
      "text/plain": [
       "['langchain']"
      ]
     },
     "execution_count": 19,
     "metadata": {},
     "output_type": "execute_result"
    }
   ],
   "source": [
    "pc.list_indexes().names()"
   ]
  },
  {
   "cell_type": "code",
   "execution_count": 17,
   "id": "e7a9e8d9-b5ec-4114-b36c-2bba0006192a",
   "metadata": {},
   "outputs": [
    {
     "name": "stdout",
     "output_type": "stream",
     "text": [
      "Creating index langchain\n",
      "Index created! :D\n"
     ]
    }
   ],
   "source": [
    "#creating pinecone indexes with serveeless\n",
    "from pinecone import ServerlessSpec\n",
    "index_name = 'langchain'\n",
    "if index_name not in pc.list_indexes().names():\n",
    "    print(f\"Creating index {index_name}\")\n",
    "    pc.create_index(\n",
    "        name=index_name, \n",
    "        dimension=1536,\n",
    "        metric=\"cosine\",\n",
    "        spec=ServerlessSpec(\n",
    "            cloud=\"aws\",\n",
    "            region=\"us-east-1\",\n",
    "            )\n",
    "        )\n",
    "    print('Index created! :D')\n",
    "else:\n",
    "    print(f\"Index {index_name} already exists\")"
   ]
  },
  {
   "cell_type": "code",
   "execution_count": 16,
   "id": "eba25776",
   "metadata": {},
   "outputs": [
    {
     "name": "stdout",
     "output_type": "stream",
     "text": [
      "Deleting index langchain...\n",
      "Done\n"
     ]
    }
   ],
   "source": [
    "#deleting pinecone indexes\n",
    "index_name = 'langchain'\n",
    "if index_name in pc.list_indexes().names():\n",
    "    print(f'Deleting index {index_name}...')\n",
    "    pc.delete_index(index_name)\n",
    "    print('Done')\n",
    "else: \n",
    "    print(f'Index {index_name} does not exist!')"
   ]
  },
  {
   "cell_type": "code",
   "execution_count": 20,
   "id": "d3bd894a-813f-4072-acca-3ff5ac6001e1",
   "metadata": {},
   "outputs": [
    {
     "data": {
      "text/plain": [
       "{'dimension': 1536,\n",
       " 'index_fullness': 0.0,\n",
       " 'namespaces': {},\n",
       " 'total_vector_count': 0}"
      ]
     },
     "execution_count": 20,
     "metadata": {},
     "output_type": "execute_result"
    }
   ],
   "source": [
    "index = pc.Index(index_name)\n",
    "index.describe_index_stats()"
   ]
  },
  {
   "cell_type": "code",
   "execution_count": null,
   "id": "350e5106-385c-4ac0-9436-d45a0c58a1dd",
   "metadata": {},
   "outputs": [],
   "source": []
  }
 ],
 "metadata": {
  "kernelspec": {
   "display_name": "Python 3 (ipykernel)",
   "language": "python",
   "name": "python3"
  },
  "language_info": {
   "codemirror_mode": {
    "name": "ipython",
    "version": 3
   },
   "file_extension": ".py",
   "mimetype": "text/x-python",
   "name": "python",
   "nbconvert_exporter": "python",
   "pygments_lexer": "ipython3",
   "version": "3.11.7"
  }
 },
 "nbformat": 4,
 "nbformat_minor": 5
}
