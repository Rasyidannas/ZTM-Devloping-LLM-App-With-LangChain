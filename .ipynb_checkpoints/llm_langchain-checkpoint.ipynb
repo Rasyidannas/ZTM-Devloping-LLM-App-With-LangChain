{
 "cells": [
  {
   "cell_type": "markdown",
   "id": "8fc42abf-bc65-46d1-867b-e67f272ebb57",
   "metadata": {},
   "source": [
    "# Deep Dive into LangChain"
   ]
  },
  {
   "cell_type": "code",
   "execution_count": 22,
   "id": "45ac14ac-e977-4976-82af-4444ee12f3f6",
   "metadata": {},
   "outputs": [
    {
     "name": "stdout",
     "output_type": "stream",
     "text": [
      "Note: you may need to restart the kernel to use updated packages.\n"
     ]
    }
   ],
   "source": [
    "pip install -r ./requirements.txt -q"
   ]
  },
  {
   "cell_type": "code",
   "execution_count": 21,
   "id": "95bea6ba-a907-49c2-9f76-e70d2d13240a",
   "metadata": {},
   "outputs": [
    {
     "name": "stdout",
     "output_type": "stream",
     "text": [
      "Name: openai\n",
      "Version: 1.27.0\n",
      "Summary: The official Python library for the openai API\n",
      "Home-page: \n",
      "Author: \n",
      "Author-email: OpenAI <support@openai.com>\n",
      "License: \n",
      "Location: /home/rasyidannas/anaconda3/lib/python3.11/site-packages\n",
      "Requires: anyio, distro, httpx, pydantic, sniffio, tqdm, typing-extensions\n",
      "Required-by: langchain-openai\n",
      "Note: you may need to restart the kernel to use updated packages.\n"
     ]
    }
   ],
   "source": [
    "# pip show openai"
   ]
  },
  {
   "cell_type": "markdown",
   "id": "3e3dc81a-482b-4b49-a2b6-309eeca85c71",
   "metadata": {},
   "source": [
    "## Python-dotenv"
   ]
  },
  {
   "cell_type": "code",
   "execution_count": 26,
   "id": "0fa352af-977a-4ebc-a15d-a1061510c905",
   "metadata": {},
   "outputs": [
    {
     "data": {
      "text/plain": [
       "True"
      ]
     },
     "execution_count": 26,
     "metadata": {},
     "output_type": "execute_result"
    }
   ],
   "source": [
    "import os\n",
    "from dotenv import load_dotenv, find_dotenv\n",
    "load_dotenv(find_dotenv(), override=True)\n",
    "\n",
    "# os.environ.get('OPENAI_API_KEY')"
   ]
  },
  {
   "cell_type": "code",
   "execution_count": 25,
   "id": "9eff54ea-689b-4519-8488-11bb7d84b441",
   "metadata": {},
   "outputs": [
    {
     "name": "stdout",
     "output_type": "stream",
     "text": [
      "Quantum mechanics is the branch of physics that describes the behavior of particles at the smallest scales, where physical properties such as position, momentum, and energy are quantized into discrete units.\n"
     ]
    }
   ],
   "source": [
    "from langchain_openai import ChatOpenAI\n",
    "\n",
    "llm = ChatOpenAI()\n",
    "output = llm.invoke('Explain quantum mechanics in one sentence.', model='gpt-3.5-turbo')\n",
    "print(output.content)"
   ]
  },
  {
   "cell_type": "code",
   "execution_count": 11,
   "id": "bd0c9b3f-b939-47d2-aa19-0a195f0b3e4e",
   "metadata": {},
   "outputs": [],
   "source": [
    "# this is for show detail our configuration CHatOpenAI\n",
    "# help(ChatOpenAI)"
   ]
  },
  {
   "cell_type": "code",
   "execution_count": 15,
   "id": "057789d5-8462-4291-89b7-3aed305a6e7a",
   "metadata": {},
   "outputs": [
    {
     "name": "stdout",
     "output_type": "stream",
     "text": [
      "Mekanika kuantum adalah teori yang menjelaskan perilaku partikel sub-atomik melalui konsep probabilitas dan superposisi keadaan.\n"
     ]
    }
   ],
   "source": [
    "from langchain.schema import (\n",
    "    SystemMessage,\n",
    "    AIMessage,\n",
    "    HumanMessage\n",
    ")\n",
    "\n",
    "messages = [\n",
    "    SystemMessage(content='You are a physicist and respond only in Indonesian'),\n",
    "    HumanMessage(content='Explain quantum mechanics in one sentence.')\n",
    "]\n",
    "\n",
    "output = llm.invoke(messages)\n",
    "print(output.content)"
   ]
  },
  {
   "cell_type": "markdown",
   "id": "a33ca732-5172-48fb-9530-1d880cdf3767",
   "metadata": {},
   "source": [
    "## Caching LLM Responses"
   ]
  },
  {
   "cell_type": "markdown",
   "id": "d5dff1a8-6b4a-4d7a-963d-90e4b4e8f085",
   "metadata": {},
   "source": [
    "### In-Memory Cache"
   ]
  },
  {
   "cell_type": "code",
   "execution_count": 16,
   "id": "c051cecb-be7a-4785-8573-e97f459089a7",
   "metadata": {},
   "outputs": [],
   "source": [
    "from langchain.globals import set_llm_cache\n",
    "from langchain_openai import OpenAI\n",
    "llm = OpenAI(model_name='gpt-3.5-turbo-instruct')"
   ]
  },
  {
   "cell_type": "code",
   "execution_count": 18,
   "id": "ea76d751-4171-4d07-8fff-b2970195f68e",
   "metadata": {},
   "outputs": [
    {
     "name": "stdout",
     "output_type": "stream",
     "text": [
      "CPU times: user 420 ms, sys: 68.2 ms, total: 488 ms\n",
      "Wall time: 2.78 s\n"
     ]
    },
    {
     "data": {
      "text/plain": [
       "'\\n\\nWhy did the cookie go to the doctor?\\n\\nBecause it was feeling crumbly!'"
      ]
     },
     "execution_count": 18,
     "metadata": {},
     "output_type": "execute_result"
    }
   ],
   "source": [
    "%%time\n",
    "from langchain.cache import  InMemoryCache\n",
    "set_llm_cache(InMemoryCache())\n",
    "prompt = 'Tell me a joke that a toddler can understand'\n",
    "llm.invoke(prompt)"
   ]
  },
  {
   "cell_type": "code",
   "execution_count": 19,
   "id": "0326b3b9-bbde-4350-be15-091e71d28a16",
   "metadata": {},
   "outputs": [
    {
     "name": "stdout",
     "output_type": "stream",
     "text": [
      "CPU times: user 577 µs, sys: 59 µs, total: 636 µs\n",
      "Wall time: 646 µs\n"
     ]
    },
    {
     "data": {
      "text/plain": [
       "'\\n\\nWhy did the cookie go to the doctor?\\n\\nBecause it was feeling crumbly!'"
      ]
     },
     "execution_count": 19,
     "metadata": {},
     "output_type": "execute_result"
    }
   ],
   "source": [
    "%%time\n",
    "llm.invoke(prompt)"
   ]
  },
  {
   "cell_type": "markdown",
   "id": "4882799f-536b-4cbd-a4db-203f3ff3158d",
   "metadata": {},
   "source": [
    "### SQLite Caching"
   ]
  },
  {
   "cell_type": "code",
   "execution_count": 20,
   "id": "d7d3b08b-266f-41de-952a-4a93374a6dd8",
   "metadata": {},
   "outputs": [
    {
     "data": {
      "text/plain": [
       "\"\\n\\nWhy don't scientists trust atoms?\\n\\nBecause they make up everything.\""
      ]
     },
     "execution_count": 20,
     "metadata": {},
     "output_type": "execute_result"
    }
   ],
   "source": [
    "from langchain.cache import SQLiteCache\n",
    "set_llm_cache(SQLiteCache(database_path='.langchain.db'))\n",
    "\n",
    "# First request (not in cahce, takes Longer)\n",
    "llm.invoke('Tell me a joke')\n",
    "\n",
    "# Second request (cached, faster)\n",
    "llm.invoke('Tell me a joke')"
   ]
  },
  {
   "cell_type": "markdown",
   "id": "c28688c8-d7d8-4adb-969d-4d83497ce607",
   "metadata": {},
   "source": [
    "### LLM Streaming"
   ]
  },
  {
   "cell_type": "code",
   "execution_count": 27,
   "id": "9a007571-2103-4330-9539-5ed8e8efa00d",
   "metadata": {},
   "outputs": [
    {
     "name": "stdout",
     "output_type": "stream",
     "text": [
      "Verse 1:\n",
      "Beneath the pale moonlight\n",
      "A raven takes flight\n",
      "Its shadow dancing on the ground\n",
      "As it lets out a haunting sound\n",
      "\n",
      "Chorus:\n",
      "Oh, Moon and Raven\n",
      "In the night, we'll be brave and\n",
      "Together we'll soar\n",
      "Forevermore, forevermore\n",
      "\n",
      "Verse 2:\n",
      "The moon's silver glow\n",
      "Guides the raven's flow\n",
      "Through the starry sky\n",
      "As they both reach new highs\n",
      "\n",
      "Chorus:\n",
      "Oh, Moon and Raven\n",
      "In the night, we'll be brave and\n",
      "Together we'll soar\n",
      "Forevermore, forevermore\n",
      "\n",
      "Bridge:\n",
      "In the darkness, they find solace\n",
      "Each other's company a promise\n",
      "To always be there, to never let go\n",
      "In the night, they'll always know\n",
      "\n",
      "Chorus:\n",
      "Oh, Moon and Raven\n",
      "In the night, we'll be brave and\n",
      "Together we'll soar\n",
      "Forevermore, forevermore\n",
      "\n",
      "Outro:\n",
      "As the moon fades away\n",
      "And the dawn starts a new day\n",
      "The raven and the moon remain\n",
      "Bound together, in the night they'll reign.\n"
     ]
    }
   ],
   "source": [
    "from langchain_openai import ChatOpenAI\n",
    "\n",
    "llm = ChatOpenAI()\n",
    "prompt = 'Write a rock song about the Moon and a Raven.'\n",
    "print(llm.invoke(prompt).content)"
   ]
  },
  {
   "cell_type": "code",
   "execution_count": 28,
   "id": "07ad3d66-f4fc-45bb-b929-85bc23112294",
   "metadata": {},
   "outputs": [
    {
     "name": "stdout",
     "output_type": "stream",
     "text": [
      "Verse 1:\n",
      "Beneath the midnight sky, a raven takes flight\n",
      "Against the glowing moon, a haunting sight\n",
      "Its feathers black as coal, its eyes piercing and bright\n",
      "A messenger of mystery, a creature of the night\n",
      "\n",
      "Chorus:\n",
      "Oh moon and raven, dance in the pale moonlight\n",
      "A symphony of darkness, a duet of the night\n",
      "Oh moon and raven, shadows intertwined\n",
      "A love affair of secrets, a bond that's undefined\n",
      "\n",
      "Verse 2:\n",
      "The raven calls out, a mournful cry\n",
      "Echoing through the stillness of the night sky\n",
      "The moon watches silently, casting its soft light\n",
      "A silent witness to the raven's plight\n",
      "\n",
      "Chorus:\n",
      "Oh moon and raven, dance in the pale moonlight\n",
      "A symphony of darkness, a duet of the night\n",
      "Oh moon and raven, shadows intertwined\n",
      "A love affair of secrets, a bond that's undefined\n",
      "\n",
      "Bridge:\n",
      "In the darkness they find solace\n",
      "In the stillness they find peace\n",
      "The moon and the raven, two creatures of the night\n",
      "Bound together in the darkness, their spirits taking flight\n",
      "\n",
      "Chorus:\n",
      "Oh moon and raven, dance in the pale moonlight\n",
      "A symphony of darkness, a duet of the night\n",
      "Oh moon and raven, shadows intertwined\n",
      "A love affair of secrets, a bond that's undefined\n",
      "\n",
      "Outro:\n",
      "As the night fades away, the moon and raven depart\n",
      "But in the shadows they'll always remain, forever in each other's heart\n",
      "A tale of mystery and magic, a bond that will never die\n",
      "The moon and the raven, forever soaring high."
     ]
    }
   ],
   "source": [
    "### Enable streaming\n",
    "for chunk in llm.stream(prompt):\n",
    "    print(chunk.content, end='', flush=True)"
   ]
  },
  {
   "cell_type": "code",
   "execution_count": null,
   "id": "ee5089bc-78a8-4dd7-8722-5d897c78f872",
   "metadata": {},
   "outputs": [],
   "source": []
  }
 ],
 "metadata": {
  "kernelspec": {
   "display_name": "Python 3 (ipykernel)",
   "language": "python",
   "name": "python3"
  },
  "language_info": {
   "codemirror_mode": {
    "name": "ipython",
    "version": 3
   },
   "file_extension": ".py",
   "mimetype": "text/x-python",
   "name": "python",
   "nbconvert_exporter": "python",
   "pygments_lexer": "ipython3",
   "version": "3.11.7"
  }
 },
 "nbformat": 4,
 "nbformat_minor": 5
}
