{
 "cells": [
  {
   "cell_type": "markdown",
   "id": "8fc42abf-bc65-46d1-867b-e67f272ebb57",
   "metadata": {},
   "source": [
    "# Deep Dive into LangChain"
   ]
  },
  {
   "cell_type": "code",
   "execution_count": 3,
   "id": "45ac14ac-e977-4976-82af-4444ee12f3f6",
   "metadata": {},
   "outputs": [
    {
     "name": "stdout",
     "output_type": "stream",
     "text": [
      "Note: you may need to restart the kernel to use updated packages.\n"
     ]
    }
   ],
   "source": [
    "pip install -r ./requirements.txt -q"
   ]
  },
  {
   "cell_type": "code",
   "execution_count": 4,
   "id": "95bea6ba-a907-49c2-9f76-e70d2d13240a",
   "metadata": {},
   "outputs": [
    {
     "name": "stdout",
     "output_type": "stream",
     "text": [
      "Name: openai\n",
      "Version: 1.27.0\n",
      "Summary: The official Python library for the openai API\n",
      "Home-page: \n",
      "Author: \n",
      "Author-email: OpenAI <support@openai.com>\n",
      "License: \n",
      "Location: /home/rasyidannas/anaconda3/lib/python3.11/site-packages\n",
      "Requires: anyio, distro, httpx, pydantic, sniffio, tqdm, typing-extensions\n",
      "Required-by: langchain-openai\n",
      "Note: you may need to restart the kernel to use updated packages.\n"
     ]
    }
   ],
   "source": [
    "# pip show openai"
   ]
  },
  {
   "cell_type": "markdown",
   "id": "3e3dc81a-482b-4b49-a2b6-309eeca85c71",
   "metadata": {},
   "source": [
    "## Python-dotenv"
   ]
  },
  {
   "cell_type": "code",
   "execution_count": 7,
   "id": "0fa352af-977a-4ebc-a15d-a1061510c905",
   "metadata": {},
   "outputs": [
    {
     "data": {
      "text/plain": [
       "True"
      ]
     },
     "execution_count": 7,
     "metadata": {},
     "output_type": "execute_result"
    }
   ],
   "source": [
    "import os\n",
    "from dotenv import load_dotenv, find_dotenv\n",
    "load_dotenv(find_dotenv(), override=True)\n",
    "\n",
    "# os.environ.get('OPENAI_API_KEY')"
   ]
  },
  {
   "cell_type": "code",
   "execution_count": 6,
   "id": "9eff54ea-689b-4519-8488-11bb7d84b441",
   "metadata": {},
   "outputs": [
    {
     "name": "stdout",
     "output_type": "stream",
     "text": [
      "Quantum mechanics is the branch of physics that describes the behavior of particles at the smallest scales, incorporating principles such as superposition, entanglement, and uncertainty.\n"
     ]
    }
   ],
   "source": [
    "from langchain_openai import ChatOpenAI\n",
    "\n",
    "llm = ChatOpenAI()\n",
    "output = llm.invoke('Explain quantum mechanics in one sentence.', model='gpt-3.5-turbo')\n",
    "print(output.content)"
   ]
  },
  {
   "cell_type": "code",
   "execution_count": 11,
   "id": "bd0c9b3f-b939-47d2-aa19-0a195f0b3e4e",
   "metadata": {},
   "outputs": [],
   "source": [
    "# this is for show detail our configuration CHatOpenAI\n",
    "# help(ChatOpenAI)"
   ]
  },
  {
   "cell_type": "code",
   "execution_count": 9,
   "id": "057789d5-8462-4291-89b7-3aed305a6e7a",
   "metadata": {},
   "outputs": [
    {
     "name": "stdout",
     "output_type": "stream",
     "text": [
      "Mekanika kuantum adalah cabang fisika yang mempelajari perilaku partikel subatomik dan sistem mikroskopis melalui prinsip superposisi, keterkaitan, dan ketidakpastian.\n"
     ]
    }
   ],
   "source": [
    "from langchain.schema import (\n",
    "    SystemMessage,\n",
    "    AIMessage,\n",
    "    HumanMessage\n",
    ")\n",
    "\n",
    "messages = [\n",
    "    SystemMessage(content='You are a physicist and respond only in Indonesian'),\n",
    "    HumanMessage(content='Explain quantum mechanics in one sentence.')\n",
    "]\n",
    "\n",
    "output = llm.invoke(messages)\n",
    "print(output.content)"
   ]
  },
  {
   "cell_type": "markdown",
   "id": "a33ca732-5172-48fb-9530-1d880cdf3767",
   "metadata": {},
   "source": [
    "## Caching LLM Responses"
   ]
  },
  {
   "cell_type": "markdown",
   "id": "d5dff1a8-6b4a-4d7a-963d-90e4b4e8f085",
   "metadata": {},
   "source": [
    "### In-Memory Cache"
   ]
  },
  {
   "cell_type": "code",
   "execution_count": 10,
   "id": "c051cecb-be7a-4785-8573-e97f459089a7",
   "metadata": {},
   "outputs": [],
   "source": [
    "from langchain.globals import set_llm_cache\n",
    "from langchain_openai import OpenAI\n",
    "llm = OpenAI(model_name='gpt-3.5-turbo-instruct')"
   ]
  },
  {
   "cell_type": "code",
   "execution_count": 11,
   "id": "ea76d751-4171-4d07-8fff-b2970195f68e",
   "metadata": {},
   "outputs": [
    {
     "name": "stdout",
     "output_type": "stream",
     "text": [
      "CPU times: user 645 ms, sys: 84.1 ms, total: 729 ms\n",
      "Wall time: 3.03 s\n"
     ]
    },
    {
     "data": {
      "text/plain": [
       "\"\\n\\nWhy did the banana go to the doctor?\\n\\nBecause it wasn't peeling well!\""
      ]
     },
     "execution_count": 11,
     "metadata": {},
     "output_type": "execute_result"
    }
   ],
   "source": [
    "%%time\n",
    "from langchain.cache import  InMemoryCache\n",
    "set_llm_cache(InMemoryCache())\n",
    "prompt = 'Tell me a joke that a toddler can understand'\n",
    "llm.invoke(prompt)"
   ]
  },
  {
   "cell_type": "code",
   "execution_count": 12,
   "id": "0326b3b9-bbde-4350-be15-091e71d28a16",
   "metadata": {},
   "outputs": [
    {
     "name": "stdout",
     "output_type": "stream",
     "text": [
      "CPU times: user 1.02 ms, sys: 0 ns, total: 1.02 ms\n",
      "Wall time: 1.04 ms\n"
     ]
    },
    {
     "data": {
      "text/plain": [
       "\"\\n\\nWhy did the banana go to the doctor?\\n\\nBecause it wasn't peeling well!\""
      ]
     },
     "execution_count": 12,
     "metadata": {},
     "output_type": "execute_result"
    }
   ],
   "source": [
    "%%time\n",
    "llm.invoke(prompt)"
   ]
  },
  {
   "cell_type": "markdown",
   "id": "4882799f-536b-4cbd-a4db-203f3ff3158d",
   "metadata": {},
   "source": [
    "### SQLite Caching"
   ]
  },
  {
   "cell_type": "code",
   "execution_count": 13,
   "id": "d7d3b08b-266f-41de-952a-4a93374a6dd8",
   "metadata": {},
   "outputs": [
    {
     "data": {
      "text/plain": [
       "\"\\n\\nWhy don't scientists trust atoms?\\n\\nBecause they make up everything.\""
      ]
     },
     "execution_count": 13,
     "metadata": {},
     "output_type": "execute_result"
    }
   ],
   "source": [
    "from langchain.cache import SQLiteCache\n",
    "set_llm_cache(SQLiteCache(database_path='.langchain.db'))\n",
    "\n",
    "# First request (not in cahce, takes Longer)\n",
    "llm.invoke('Tell me a joke')\n",
    "\n",
    "# Second request (cached, faster)\n",
    "llm.invoke('Tell me a joke')"
   ]
  },
  {
   "cell_type": "markdown",
   "id": "c28688c8-d7d8-4adb-969d-4d83497ce607",
   "metadata": {},
   "source": [
    "### LLM Streaming"
   ]
  },
  {
   "cell_type": "code",
   "execution_count": 14,
   "id": "9a007571-2103-4330-9539-5ed8e8efa00d",
   "metadata": {},
   "outputs": [
    {
     "name": "stdout",
     "output_type": "stream",
     "text": [
      "Verse 1:\n",
      "Beneath the moonlit sky\n",
      "A raven takes flight\n",
      "Its wings black as night\n",
      "Guided by the pale moonlight\n",
      "\n",
      "Chorus:\n",
      "Moon and raven, dance in the night\n",
      "Their spirits intertwined, a mystical sight\n",
      "They soar through the darkness, side by side\n",
      "In the shadow of the moon, they will abide\n",
      "\n",
      "Verse 2:\n",
      "The raven calls out\n",
      "In a haunting, eerie cry\n",
      "Its message carried on the wind\n",
      "As the moon watches from on high\n",
      "\n",
      "Chorus:\n",
      "Moon and raven, dance in the night\n",
      "Their spirits intertwined, a mystical sight\n",
      "They soar through the darkness, side by side\n",
      "In the shadow of the moon, they will abide\n",
      "\n",
      "Bridge:\n",
      "The moon whispers secrets\n",
      "To the raven in flight\n",
      "Together they roam\n",
      "Through the endless night\n",
      "\n",
      "Chorus:\n",
      "Moon and raven, dance in the night\n",
      "Their spirits intertwined, a mystical sight\n",
      "They soar through the darkness, side by side\n",
      "In the shadow of the moon, they will abide\n",
      "\n",
      "Outro:\n",
      "Moon and raven, forever bound\n",
      "In the darkness, their presence is found\n",
      "A mysterious pair, in the velvet sky\n",
      "Moon and raven, flying high.\n"
     ]
    }
   ],
   "source": [
    "from langchain_openai import ChatOpenAI\n",
    "\n",
    "llm = ChatOpenAI()\n",
    "prompt = 'Write a rock song about the Moon and a Raven.'\n",
    "print(llm.invoke(prompt).content)"
   ]
  },
  {
   "cell_type": "code",
   "execution_count": 15,
   "id": "07ad3d66-f4fc-45bb-b929-85bc23112294",
   "metadata": {},
   "outputs": [
    {
     "name": "stdout",
     "output_type": "stream",
     "text": [
      "Verse 1:\n",
      "Underneath the midnight sky\n",
      "The moon shines bright up high\n",
      "A raven calls out in the night\n",
      "Its haunting cry fills me with fright\n",
      "\n",
      "Chorus:\n",
      "Moon and raven, guardians of the night\n",
      "Their spirits intertwined, a mystical sight\n",
      "They watch over us, with wisdom and might\n",
      "Moon and raven, shining in the moonlight\n",
      "\n",
      "Verse 2:\n",
      "The raven flies with grace and poise\n",
      "Its black feathers shimmer in the noise\n",
      "The moon's glow guides its path\n",
      "As it soars through the aftermath\n",
      "\n",
      "Chorus:\n",
      "Moon and raven, guardians of the night\n",
      "Their spirits intertwined, a mystical sight\n",
      "They watch over us, with wisdom and might\n",
      "Moon and raven, shining in the moonlight\n",
      "\n",
      "Bridge:\n",
      "In the darkness, they reign supreme\n",
      "In their realm, they create a dream\n",
      "A world of mystery and wonder\n",
      "Where the moon and raven never sunder\n",
      "\n",
      "Chorus:\n",
      "Moon and raven, guardians of the night\n",
      "Their spirits intertwined, a mystical sight\n",
      "They watch over us, with wisdom and might\n",
      "Moon and raven, shining in the moonlight\n",
      "\n",
      "Outro:\n",
      "As the night fades into day\n",
      "The moon and raven still hold sway\n",
      "Their presence lingers in the air\n",
      "A reminder of their eternal care"
     ]
    }
   ],
   "source": [
    "### Enable streaming\n",
    "for chunk in llm.stream(prompt):\n",
    "    print(chunk.content, end='', flush=True)"
   ]
  },
  {
   "cell_type": "markdown",
   "id": "17d1aa03-2784-4ba0-ae56-d9a8fb62f83d",
   "metadata": {},
   "source": [
    "### PromptTemplates"
   ]
  },
  {
   "cell_type": "code",
   "execution_count": 16,
   "id": "92db81fe-dd60-44ff-8555-f66ab513c823",
   "metadata": {},
   "outputs": [
    {
     "data": {
      "text/plain": [
       "'You are an experience virologist. Write a few sentences about the following virus \"hiv\" in german.'"
      ]
     },
     "execution_count": 16,
     "metadata": {},
     "output_type": "execute_result"
    }
   ],
   "source": [
    "from langchain.prompts import PromptTemplate\n",
    "from langchain_openai import ChatOpenAI\n",
    "\n",
    "template = '''You are an experience virologist. Write a few sentences about the following virus \"{virus}\" in {language}.'''\n",
    "prompt_template = PromptTemplate.from_template(template=template)\n",
    "\n",
    "prompt = prompt_template.format(virus='hiv', language='german')\n",
    "prompt\n"
   ]
  },
  {
   "cell_type": "code",
   "execution_count": 17,
   "id": "4f5a42fb-7780-4cdf-a3c8-d83011e4b874",
   "metadata": {},
   "outputs": [
    {
     "name": "stdout",
     "output_type": "stream",
     "text": [
      "HIV, das humane Immundefizienzvirus, ist ein Virus, das das Immunsystem des Menschen schwächt und zu AIDS führen kann. Es wird hauptsächlich durch ungeschützten Geschlechtsverkehr, den Austausch von infizierten Nadeln oder von der Mutter auf das Kind während der Schwangerschaft übertragen. Es ist wichtig, sich über die Übertragungswege und Präventionsmaßnahmen von HIV zu informieren, um die Verbreitung dieser lebensbedrohlichen Krankheit einzudämmen.\n"
     ]
    }
   ],
   "source": [
    "llm = ChatOpenAI(model_name='gpt-3.5-turbo', temperature=0)\n",
    "output = llm.invoke(prompt)\n",
    "print(output.content)"
   ]
  },
  {
   "cell_type": "markdown",
   "id": "7bc554a1-2b75-4de4-9042-cd476bdb89f3",
   "metadata": {},
   "source": [
    "### ChatPromptTemplates"
   ]
  },
  {
   "cell_type": "code",
   "execution_count": 18,
   "id": "ec0651ea-cd9b-46bc-9833-3888a135f0fe",
   "metadata": {},
   "outputs": [
    {
     "name": "stdout",
     "output_type": "stream",
     "text": [
      "[SystemMessage(content='You respond only in the JSON format.'), HumanMessage(content='Top 10 countries in World by population.')]\n"
     ]
    }
   ],
   "source": [
    "from langchain.prompts import ChatPromptTemplate, HumanMessagePromptTemplate\n",
    "from langchain_core.messages import SystemMessage\n",
    "\n",
    "chat_template = ChatPromptTemplate.from_messages(\n",
    "    [\n",
    "        SystemMessage(content='You respond only in the JSON format.'),\n",
    "        HumanMessagePromptTemplate.from_template('Top {n} countries in {area} by population.')\n",
    "    ]\n",
    ")\n",
    "\n",
    "messages = chat_template.format_messages(n='10', area='World')\n",
    "print(messages)"
   ]
  },
  {
   "cell_type": "code",
   "execution_count": 19,
   "id": "7537eef6-d1e2-4091-a38e-b879647d2edb",
   "metadata": {},
   "outputs": [
    {
     "name": "stdout",
     "output_type": "stream",
     "text": [
      "{\n",
      "    \"1\": {\n",
      "        \"country\": \"China\",\n",
      "        \"population\": \"1,439,323,776\"\n",
      "    },\n",
      "    \"2\": {\n",
      "        \"country\": \"India\",\n",
      "        \"population\": \"1,380,004,385\"\n",
      "    },\n",
      "    \"3\": {\n",
      "        \"country\": \"United States\",\n",
      "        \"population\": \"331,002,651\"\n",
      "    },\n",
      "    \"4\": {\n",
      "        \"country\": \"Indonesia\",\n",
      "        \"population\": \"273,523,615\"\n",
      "    },\n",
      "    \"5\": {\n",
      "        \"country\": \"Pakistan\",\n",
      "        \"population\": \"220,892,331\"\n",
      "    },\n",
      "    \"6\": {\n",
      "        \"country\": \"Brazil\",\n",
      "        \"population\": \"212,559,417\"\n",
      "    },\n",
      "    \"7\": {\n",
      "        \"country\": \"Nigeria\",\n",
      "        \"population\": \"206,139,589\"\n",
      "    },\n",
      "    \"8\": {\n",
      "        \"country\": \"Bangladesh\",\n",
      "        \"population\": \"164,689,383\"\n",
      "    },\n",
      "    \"9\": {\n",
      "        \"country\": \"Russia\",\n",
      "        \"population\": \"145,934,462\"\n",
      "    },\n",
      "    \"10\": {\n",
      "        \"country\": \"Mexico\",\n",
      "        \"population\": \"128,932,753\"\n",
      "    }\n",
      "}\n"
     ]
    }
   ],
   "source": [
    "from langchain_openai import ChatOpenAI\n",
    "llm = ChatOpenAI()\n",
    "output = llm.invoke(messages)\n",
    "print(output.content)"
   ]
  },
  {
   "cell_type": "markdown",
   "id": "bb5af936-da6b-40a7-a05a-46cb202ebef8",
   "metadata": {},
   "source": [
    "### Simple Chains"
   ]
  },
  {
   "cell_type": "code",
   "execution_count": 20,
   "id": "c51835d8-fb03-44c6-ad67-4ec2e15d295c",
   "metadata": {},
   "outputs": [
    {
     "name": "stdout",
     "output_type": "stream",
     "text": [
      "\n",
      "\n",
      "\u001b[1m> Entering new LLMChain chain...\u001b[0m\n",
      "Prompt after formatting:\n",
      "\u001b[32;1m\u001b[1;3mYou are an experience virologist. Write a few sentences about the following virus \"HSV\" in Indonesian.\u001b[0m\n",
      "\n",
      "\u001b[1m> Finished chain.\u001b[0m\n"
     ]
    },
    {
     "name": "stderr",
     "output_type": "stream",
     "text": [
      "/home/rasyidannas/anaconda3/lib/python3.11/site-packages/langchain_core/_api/deprecation.py:119: LangChainDeprecationWarning: The class `LLMChain` was deprecated in LangChain 0.1.17 and will be removed in 0.3.0. Use RunnableSequence, e.g., `prompt | llm` instead.\n",
      "  warn_deprecated(\n"
     ]
    }
   ],
   "source": [
    "from langchain_openai import ChatOpenAI\n",
    "from langchain import PromptTemplate\n",
    "from langchain.chains import LLMChain\n",
    "\n",
    "llm = ChatOpenAI()\n",
    "template = '''You are an experience virologist. Write a few sentences about the following virus \"{virus}\" in {language}.'''\n",
    "prompt_template = PromptTemplate.from_template(template=template)\n",
    "\n",
    "chain = LLMChain(\n",
    "    llm=llm,\n",
    "    prompt=prompt_template,\n",
    "    verbose=True\n",
    ")\n",
    "\n",
    "output = chain.invoke({'virus': 'HSV', 'language': 'Indonesian'})"
   ]
  },
  {
   "cell_type": "code",
   "execution_count": 22,
   "id": "0615d5c4-5331-4cb4-b8bc-e22e4ac3d83b",
   "metadata": {},
   "outputs": [
    {
     "name": "stdout",
     "output_type": "stream",
     "text": [
      "{'virus': 'HSV', 'language': 'Indonesian', 'text': 'HSV atau herpes simpleks virus adalah virus yang menyebabkan infeksi pada manusia. Virus ini dapat menyebabkan luka di mulut (herpes labialis) atau di area genital (herpes genitalis). HSV sangat menular dan dapat menyebar melalui kontak langsung dengan luka yang terinfeksi. Penyakit ini dapat kambuh secara periodik dan tidak memiliki obat yang dapat menyembuhkan secara permanen.'}\n"
     ]
    }
   ],
   "source": [
    "print(output)"
   ]
  },
  {
   "cell_type": "code",
   "execution_count": 23,
   "id": "dcb32c90-c28a-4068-adcd-1756f3d0860f",
   "metadata": {},
   "outputs": [
    {
     "name": "stdin",
     "output_type": "stream",
     "text": [
      "Enter Country:  Indonesia\n"
     ]
    },
    {
     "name": "stdout",
     "output_type": "stream",
     "text": [
      "\n",
      "\n",
      "\u001b[1m> Entering new LLMChain chain...\u001b[0m\n",
      "Prompt after formatting:\n",
      "\u001b[32;1m\u001b[1;3mWhat is the capital of Indonesia?. List the top 3 places to visit in that city. Use bullet points\u001b[0m\n",
      "\n",
      "\u001b[1m> Finished chain.\u001b[0m\n",
      "The capital of Indonesia is Jakarta.\n",
      "\n",
      "Top 3 places to visit in Jakarta:\n",
      "- National Monument (Monas)\n",
      "- Taman Mini Indonesia Indah\n",
      "- Kota Tua (Old Town)\n"
     ]
    }
   ],
   "source": [
    "template = 'What is the capital of {country}?. List the top 3 places to visit in that city. Use bullet points'\n",
    "prompt_template = PromptTemplate.from_template(template=template)\n",
    "\n",
    "chain = LLMChain(\n",
    "    llm=llm,\n",
    "    prompt=prompt_template,\n",
    "    verbose=True\n",
    ")\n",
    "\n",
    "country = input('Enter Country: ')\n",
    "output = chain.invoke(country)\n",
    "print(output['text'])"
   ]
  },
  {
   "cell_type": "markdown",
   "id": "2c7bf6c8-648e-424d-bc2e-8f4d5482b627",
   "metadata": {},
   "source": [
    "### Sequential Chains"
   ]
  },
  {
   "cell_type": "code",
   "execution_count": 25,
   "id": "a9e45af4-4d73-44f3-aab6-43486dd52644",
   "metadata": {},
   "outputs": [
    {
     "name": "stdout",
     "output_type": "stream",
     "text": [
      "\n",
      "\n",
      "\u001b[1m> Entering new SimpleSequentialChain chain...\u001b[0m\n",
      "\u001b[36;1m\u001b[1;3mSure! Here is a simple Python function that implements linear regression:\n",
      "\n",
      "```python\n",
      "import numpy as np\n",
      "\n",
      "def linear_regression(x, y):\n",
      "    n = len(x)\n",
      "    x_mean = np.mean(x)\n",
      "    y_mean = np.mean(y)\n",
      "\n",
      "    numerator = np.sum((x - x_mean) * (y - y_mean))\n",
      "    denominator = np.sum((x - x_mean) ** 2)\n",
      "\n",
      "    slope = numerator / denominator\n",
      "    intercept = y_mean - slope * x_mean\n",
      "\n",
      "    return slope, intercept\n",
      "\n",
      "# Example usage\n",
      "x = np.array([1, 2, 3, 4, 5])\n",
      "y = np.array([2, 3, 4, 5, 6])\n",
      "\n",
      "slope, intercept = linear_regression(x, y)\n",
      "print(\"Slope:\", slope)\n",
      "print(\"Intercept:\", intercept)\n",
      "```\n",
      "\n",
      "This function takes two arrays `x` and `y` as input, where `x` represents the independent variable and `y` represents the dependent variable. It calculates the slope and intercept of the linear regression line that best fits the data points. The function then returns the slope and intercept values.\n",
      "\n",
      "You can test this function by passing in your own data points and see how well it fits a linear regression line.\u001b[0m\n",
      "\u001b[33;1m\u001b[1;3mThe Python function you've shared, named `linear_regression`, computes the slope and intercept for a best-fit straight line through a set of data points, based on the method of least squares. This process is fundamental for linear regression analysis, which is widely used in statistics and data science to model linear relationships between variables. Here's a detailed explanation of how it works:\n",
      "\n",
      "### Import Statement\n",
      "```python\n",
      "import numpy as np\n",
      "```\n",
      "- The function begins by importing the NumPy library, which provides support for arrays (like sequences in Python, but more generally a multi-dimensional matrix), along with a collection of mathematical functions to operate on these arrays. NumPy is highly efficient for numerical computations.\n",
      "\n",
      "### Function Definition\n",
      "```python\n",
      "def linear_regression(x, y):\n",
      "```\n",
      "- The function `linear_regression` is defined with two parameters: `x` and `y`. These are arrays representing the independent (predictor) and dependent (outcome) variables, respectively.\n",
      "\n",
      "### Variable Initialization\n",
      "```python\n",
      "    n = len(x)\n",
      "```\n",
      "- This line calculates the length (number of elements) of the `x` array, though it's noteworthy that `n` doesn't seem to be used elsewhere in the function.\n",
      "\n",
      "### Mean Computation\n",
      "```python\n",
      "    x_mean = np.mean(x)\n",
      "    y_mean = np.mean(y)\n",
      "```\n",
      "- `x_mean` and `y_mean` are computed using the `mean` function from the NumPy library, which calculates the arithmetic average of the elements in the arrays `x` and `y`.\n",
      "\n",
      "### Calculation of Slope and Intercept\n",
      "```python\n",
      "    numerator = np.sum((x - x_mean) * (y - y_mean))\n",
      "    denominator = np.sum((x - x_mean) ** 2)\n",
      "\n",
      "    slope = numerator / denominator \n",
      "    intercept = y_mean - slope * x_mean\n",
      "```\n",
      "- The **slope** of the best fit line (`slope`) is computed by dividing the covariance of `x` and `y` (numerator) by the variance of `x` (denominator). This is derived from the formula for the slope in linear regression analysis.\n",
      "\n",
      "- The **intercept** (`intercept`) is calculated using the mean values of `x` and `y`, alongside the slope. It represents where the line crosses the y-axis when `x` equals zero.\n",
      "\n",
      "### Return Statement\n",
      "```python\n",
      "    return slope, intercept\n",
      "```\n",
      "- Finally, the function returns both the calculated slope and intercept of the linear regression line. These values can be used to predict `y` values for given `x` inputs, based on the linear relationship `y = slope * x + intercept`.\n",
      "\n",
      "### Example Usage\n",
      "```python\n",
      "x = np.array([1, 2, 3, 4, 5])\n",
      "y = np.array([2, 3, 4, 5, 6])\n",
      "\n",
      "slope, intercept = linear_regression(x, y)\n",
      "print(\"Slope:\", slope)\n",
      "print(\"Intercept:\", intercept)\n",
      "```\n",
      "- To demonstrate how the function can be used, a simple example is provided where two NumPy arrays `x` and `y` are defined with linearly related numbers. When these arrays are passed to the `linear_regression` function, it computes the slope and intercept. For these example arrays, we anticipate a line with a slope of `1` since for each increment in `x`, `y` also increments by `1`, and an intercept of `1` since when `x` is `1`, `y` is also shifted by `1` from the origin/direct relationship.\n",
      "\n",
      "This explanation encapsulates how the provided Python function effectively computes and allows the interpretation of simple linear relationships within a given set of data points by applying basic statistical concepts, leveraging NumPy for efficient computation.\u001b[0m\n",
      "\n",
      "\u001b[1m> Finished chain.\u001b[0m\n"
     ]
    }
   ],
   "source": [
    "from langchain_openai import ChatOpenAI\n",
    "from langchain import PromptTemplate\n",
    "from langchain.chains import LLMChain, SimpleSequentialChain\n",
    "\n",
    "llm1 = ChatOpenAI(model_name='gpt-3.5-turbo', temperature=0.5)\n",
    "prompt_template1 = PromptTemplate.from_template(\n",
    "    template='You are an experiment scientist and Python programmer. Write a function that implements the concept of {concept}.'\n",
    ")\n",
    "\n",
    "chain1 = LLMChain(llm=llm1, prompt=prompt_template1)\n",
    "\n",
    "llm2 = ChatOpenAI(model_name='gpt-4-turbo-preview', temperature=1.2)\n",
    "prompt_template2 = PromptTemplate.from_template(\n",
    "    template='Given the python function {function}, describe it as detailed as possible.'\n",
    ")\n",
    "chain2 = LLMChain(llm=llm2, prompt=prompt_template2)\n",
    "\n",
    "overall_chain = SimpleSequentialChain(chains=[chain1, chain2], verbose=True)\n",
    "output = overall_chain.invoke('linear regression')"
   ]
  },
  {
   "cell_type": "code",
   "execution_count": 27,
   "id": "d4f072c9-8c2e-4e8d-9673-d3e14b58d64b",
   "metadata": {},
   "outputs": [
    {
     "name": "stdout",
     "output_type": "stream",
     "text": [
      "The Python function you've shared, named `linear_regression`, computes the slope and intercept for a best-fit straight line through a set of data points, based on the method of least squares. This process is fundamental for linear regression analysis, which is widely used in statistics and data science to model linear relationships between variables. Here's a detailed explanation of how it works:\n",
      "\n",
      "### Import Statement\n",
      "```python\n",
      "import numpy as np\n",
      "```\n",
      "- The function begins by importing the NumPy library, which provides support for arrays (like sequences in Python, but more generally a multi-dimensional matrix), along with a collection of mathematical functions to operate on these arrays. NumPy is highly efficient for numerical computations.\n",
      "\n",
      "### Function Definition\n",
      "```python\n",
      "def linear_regression(x, y):\n",
      "```\n",
      "- The function `linear_regression` is defined with two parameters: `x` and `y`. These are arrays representing the independent (predictor) and dependent (outcome) variables, respectively.\n",
      "\n",
      "### Variable Initialization\n",
      "```python\n",
      "    n = len(x)\n",
      "```\n",
      "- This line calculates the length (number of elements) of the `x` array, though it's noteworthy that `n` doesn't seem to be used elsewhere in the function.\n",
      "\n",
      "### Mean Computation\n",
      "```python\n",
      "    x_mean = np.mean(x)\n",
      "    y_mean = np.mean(y)\n",
      "```\n",
      "- `x_mean` and `y_mean` are computed using the `mean` function from the NumPy library, which calculates the arithmetic average of the elements in the arrays `x` and `y`.\n",
      "\n",
      "### Calculation of Slope and Intercept\n",
      "```python\n",
      "    numerator = np.sum((x - x_mean) * (y - y_mean))\n",
      "    denominator = np.sum((x - x_mean) ** 2)\n",
      "\n",
      "    slope = numerator / denominator \n",
      "    intercept = y_mean - slope * x_mean\n",
      "```\n",
      "- The **slope** of the best fit line (`slope`) is computed by dividing the covariance of `x` and `y` (numerator) by the variance of `x` (denominator). This is derived from the formula for the slope in linear regression analysis.\n",
      "\n",
      "- The **intercept** (`intercept`) is calculated using the mean values of `x` and `y`, alongside the slope. It represents where the line crosses the y-axis when `x` equals zero.\n",
      "\n",
      "### Return Statement\n",
      "```python\n",
      "    return slope, intercept\n",
      "```\n",
      "- Finally, the function returns both the calculated slope and intercept of the linear regression line. These values can be used to predict `y` values for given `x` inputs, based on the linear relationship `y = slope * x + intercept`.\n",
      "\n",
      "### Example Usage\n",
      "```python\n",
      "x = np.array([1, 2, 3, 4, 5])\n",
      "y = np.array([2, 3, 4, 5, 6])\n",
      "\n",
      "slope, intercept = linear_regression(x, y)\n",
      "print(\"Slope:\", slope)\n",
      "print(\"Intercept:\", intercept)\n",
      "```\n",
      "- To demonstrate how the function can be used, a simple example is provided where two NumPy arrays `x` and `y` are defined with linearly related numbers. When these arrays are passed to the `linear_regression` function, it computes the slope and intercept. For these example arrays, we anticipate a line with a slope of `1` since for each increment in `x`, `y` also increments by `1`, and an intercept of `1` since when `x` is `1`, `y` is also shifted by `1` from the origin/direct relationship.\n",
      "\n",
      "This explanation encapsulates how the provided Python function effectively computes and allows the interpretation of simple linear relationships within a given set of data points by applying basic statistical concepts, leveraging NumPy for efficient computation.\n"
     ]
    }
   ],
   "source": [
    "print(output['output'])"
   ]
  },
  {
   "cell_type": "code",
   "execution_count": null,
   "id": "475ed1f0-f29e-40f1-891a-55b353f34f6d",
   "metadata": {},
   "outputs": [],
   "source": []
  }
 ],
 "metadata": {
  "kernelspec": {
   "display_name": "Python 3 (ipykernel)",
   "language": "python",
   "name": "python3"
  },
  "language_info": {
   "codemirror_mode": {
    "name": "ipython",
    "version": 3
   },
   "file_extension": ".py",
   "mimetype": "text/x-python",
   "name": "python",
   "nbconvert_exporter": "python",
   "pygments_lexer": "ipython3",
   "version": "3.11.7"
  }
 },
 "nbformat": 4,
 "nbformat_minor": 5
}
